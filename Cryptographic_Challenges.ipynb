{
 "cells": [
  {
   "cell_type": "markdown",
   "metadata": {},
   "source": [
    "# 1. Qualifying set"
   ]
  },
  {
   "cell_type": "markdown",
   "metadata": {},
   "source": [
    "# 1.1 Convert hex to base64"
   ]
  },
  {
   "cell_type": "code",
   "execution_count": 1,
   "metadata": {},
   "outputs": [
    {
     "name": "stdout",
     "output_type": "stream",
     "text": [
      "SSdtIGtpbGxpbmcgeW91ciBicmFpbiBsaWtlIGEgcG9pc29ub3VzIG11c2hyb29t\n",
      "\n"
     ]
    }
   ],
   "source": [
    "import codecs\n",
    "a = \"49276d206b696c6c696e6720796f757220627261696e206c696b65206120706f69736f6e6f7573206d757368726f6f6d\"\n",
    "b64 = codecs.encode(codecs.decode(a, 'hex'), 'base64').decode()\n",
    "print(b64)"
   ]
  },
  {
   "cell_type": "markdown",
   "metadata": {},
   "source": [
    "# 1.2 Fixed XOR"
   ]
  },
  {
   "cell_type": "code",
   "execution_count": 2,
   "metadata": {},
   "outputs": [],
   "source": [
    "import binascii\n",
    "def fixedxor(str1, str2):\n",
    "    if len(str1) == len(str2) :     \n",
    "        A = binascii.a2b_hex(str1)\n",
    "        B = binascii.a2b_hex(str2)\n",
    "        xor_result = binascii.b2a_hex(bytes([ x^y for (x,y) in zip(A, B)]))\n",
    "        return xor_result\n",
    "    else :\n",
    "        print('les deux strings sont de longeur différente.')"
   ]
  },
  {
   "cell_type": "code",
   "execution_count": 3,
   "metadata": {},
   "outputs": [
    {
     "name": "stdout",
     "output_type": "stream",
     "text": [
      "b'746865206b696420646f6e277420706c6179'\n"
     ]
    }
   ],
   "source": [
    "a = '1c0111001f010100061a024b53535009181c'\n",
    "b = '686974207468652062756c6c277320657965'\n",
    "xor_result = fixedxor(a,b)\n",
    "print(xor_result)"
   ]
  },
  {
   "cell_type": "markdown",
   "metadata": {},
   "source": [
    "# 1.3 Single-byte XOR cipher"
   ]
  },
  {
   "cell_type": "code",
   "execution_count": 4,
   "metadata": {},
   "outputs": [],
   "source": [
    "import binascii\n",
    "encode = '1b37373331363f78151b7f2b783431333d78397828372d363c78373e783a393b3736'\n",
    "def single_byte_xor(encode) :\n",
    "    ciphertext = binascii.a2b_hex(encode)\n",
    "    for key in range(256) :\n",
    "        result = (''.join(chr(num ^ key) for num in ciphertext) for key in range(256))\n",
    "    return max(result, key=lambda s: s.count(' '))"
   ]
  },
  {
   "cell_type": "code",
   "execution_count": 5,
   "metadata": {},
   "outputs": [
    {
     "name": "stdout",
     "output_type": "stream",
     "text": [
      "Cooking MC's like a pound of bacon\n"
     ]
    }
   ],
   "source": [
    "result = single_byte_xor(encode)\n",
    "print(result)"
   ]
  },
  {
   "cell_type": "markdown",
   "metadata": {},
   "source": [
    "# Challenge 4 - Detect single-character XOR"
   ]
  },
  {
   "cell_type": "code",
   "execution_count": 6,
   "metadata": {},
   "outputs": [],
   "source": [
    "with open('./detecting-singlechar-xor.txt') as data_file:\n",
    "    ciphertext_list = [\n",
    "        binascii.a2b_hex(line.strip())\n",
    "        for line in data_file\n",
    "    ]"
   ]
  },
  {
   "cell_type": "code",
   "execution_count": 7,
   "metadata": {},
   "outputs": [],
   "source": [
    "def detect_single_character_xor(ciphertext):\n",
    "    best = {\"nombre_lettere\": 0}\n",
    "    for i in range(256) :   \n",
    "        key_value = i.to_bytes(1, byteorder='big') *len(ciphertext)\n",
    "        char_text = list(range(97, 122))\n",
    "        char_text.append(32)\n",
    "        message = bytes([ x^y for (x,y) in zip(ciphertext, key_value)])\n",
    "        nb_letters = sum([ x in char_text for x in message])\n",
    "        if nb_letters>best['nombre_lettere']:\n",
    "            best = {\"message\": message, 'nombre_lettere': nb_letters, 'key': i.to_bytes(1, byteorder='big')}\n",
    "    \n",
    "    if best['nombre_lettere'] > 0.7*len(ciphertext):\n",
    "        return best\n",
    "    else:\n",
    "        pass"
   ]
  },
  {
   "cell_type": "code",
   "execution_count": 8,
   "metadata": {},
   "outputs": [
    {
     "name": "stdout",
     "output_type": "stream",
     "text": [
      "line_nb : 170\n",
      "ciphertext : b'{ZB\\x15A]TA\\x15A]P\\x15ETGAL\\x15\\\\F\\x15_@XE\\\\[R?'\n",
      "message : b'Now that the party is jumping\\n'\n"
     ]
    }
   ],
   "source": [
    "resultat = list()\n",
    "for (line_nb, ciphertext) in enumerate(ciphertext_list):\n",
    "    try:\n",
    "        message = detect_single_character_xor(ciphertext)['message']\n",
    "    except :\n",
    "        pass\n",
    "    else:\n",
    "        resultat.append({\n",
    "            'line_nb': line_nb,\n",
    "            'ciphertext': ciphertext,\n",
    "            'message': message\n",
    "        })\n",
    "        \n",
    "if len(resultat) > 1:\n",
    "    print(\"Error: plus qu'un seul candidat\")\n",
    "else:\n",
    "    for (key, value) in resultat[0].items():\n",
    "        print(key,':',value)"
   ]
  },
  {
   "cell_type": "markdown",
   "metadata": {},
   "source": [
    "# 1.5 Implement repeating-key XOR"
   ]
  },
  {
   "cell_type": "code",
   "execution_count": 9,
   "metadata": {},
   "outputs": [],
   "source": [
    "message = b\"Bonjour, vous allez bien ?\" \n",
    "key = b'ICE'\n",
    "streamkey = key*(len(message)//len(key) + 1)\n",
    "ciphertext = bytes([ x^y for (x,y) in zip(message, streamkey)])\n",
    "expected_result = binascii.b2a_hex(ciphertext)"
   ]
  },
  {
   "cell_type": "code",
   "execution_count": 10,
   "metadata": {},
   "outputs": [
    {
     "name": "stdout",
     "output_type": "stream",
     "text": [
      "b'0b2c2b232c303b6f653f2c303a6324252f2033632720262b697c'\n"
     ]
    }
   ],
   "source": [
    "print(expected_result)"
   ]
  },
  {
   "cell_type": "markdown",
   "metadata": {},
   "source": [
    "# 1.6 Break repeating-key XOR"
   ]
  },
  {
   "cell_type": "code",
   "execution_count": 11,
   "metadata": {},
   "outputs": [],
   "source": [
    "from base64 import b64decode\n",
    "with open(\"./repeating-xor.txt\") as file:\n",
    "        ciphertext = b64decode(file.read())"
   ]
  },
  {
   "cell_type": "code",
   "execution_count": 12,
   "metadata": {},
   "outputs": [],
   "source": [
    "def hamming_distance(a, b):\n",
    "    byte_xor = bytes([ x^y for (x,y) in zip(a, b)])\n",
    "    result = sum(bin(byte).count('1') for byte in byte_xor)\n",
    "    return result"
   ]
  },
  {
   "cell_type": "code",
   "execution_count": 13,
   "metadata": {},
   "outputs": [
    {
     "name": "stdout",
     "output_type": "stream",
     "text": [
      "haming distance est : 38\n"
     ]
    }
   ],
   "source": [
    "a=  b\"this is a test\"\n",
    "b = b\"wokka wokka !!!\"\n",
    "result = hamming_distance(a, b)\n",
    "print('haming distance est :', result)"
   ]
  },
  {
   "cell_type": "code",
   "execution_count": 14,
   "metadata": {},
   "outputs": [
    {
     "name": "stdout",
     "output_type": "stream",
     "text": [
      "<function <lambda> at 0x7fe6201aeb70>\n"
     ]
    }
   ],
   "source": [
    "key = lambda x: distance_by_key_size(x,ciphertext)\n",
    "print(key)"
   ]
  },
  {
   "cell_type": "code",
   "execution_count": 15,
   "metadata": {},
   "outputs": [],
   "source": [
    "def distance_by_key_size(key_size, ciphertext):\n",
    "    size = 2*key_size\n",
    "    nb_measurements = len(ciphertext) // size - 1\n",
    "    score = 0\n",
    "    for i in range(0,nb_measurements):\n",
    "        z = size\n",
    "        k = key_size\n",
    "        size1 = slice(i*z, i*z + k)\n",
    "        size2 = slice(i*z + k, i*z + 2*k)\n",
    "        score += hamming_distance(ciphertext[size1], ciphertext[size2])\n",
    "    score /= key_size  \n",
    "    score /= nb_measurements\n",
    "    return score"
   ]
  },
  {
   "cell_type": "code",
   "execution_count": 16,
   "metadata": {},
   "outputs": [],
   "source": [
    "def find_by_key_length(ciphertext, min_length, max_length):\n",
    "    \n",
    "    key = lambda x: distance_by_key_size(x,ciphertext)\n",
    "    result = min(range(min_length, max_length), key=key)\n",
    "    return result"
   ]
  },
  {
   "cell_type": "code",
   "execution_count": 17,
   "metadata": {},
   "outputs": [],
   "source": [
    "min_length = 2\n",
    "max_length = 50\n",
    "def attack_repeating_key_xor(ciphertext,min_length,max_length):\n",
    "    keysize = find_by_key_length(ciphertext,min_length,max_length)\n",
    "    key = bytes()\n",
    "    message_parts = list()\n",
    "    for i in range(keysize):\n",
    "        part = detect_single_character_xor(bytes(ciphertext[i::keysize]))\n",
    "        key += part[\"key\"]\n",
    "        message_parts.append(part[\"message\"])\n",
    "    message = bytes()\n",
    "    for i in range(max(map(len, message_parts))):\n",
    "        message += bytes([part[i] for part in message_parts if len(part)>=i+1])\n",
    "    result = {'message':message, 'key':key}\n",
    "    return result         "
   ]
  },
  {
   "cell_type": "code",
   "execution_count": 18,
   "metadata": {},
   "outputs": [
    {
     "name": "stdout",
     "output_type": "stream",
     "text": [
      "la clef est: b'Terminator X: Bring the noise' \n",
      "\n",
      "le message est :\n",
      "\n",
      "I'm back and I'm ringin' the bell \n",
      "A rockin' on the mike while the fly girls yell \n",
      "In ecstasy in the back of me \n",
      "Well that's my DJ Deshay cuttin' all them Z's \n",
      "Hittin' hard and the girlies goin' crazy \n",
      "Vanilla's on the mike, man I'm not lazy. \n",
      "\n",
      "I'm lettin' my drug kick in \n",
      "It controls my mouth and I begin \n",
      "To just let it flow, let my concepts go \n",
      "My posse's to the side yellin', Go Vanilla Go! \n",
      "\n",
      "Smooth 'cause that's the way I will be \n",
      "And if you don't give a damn, then \n",
      "Why you starin' at me \n",
      "So get off 'cause I control the stage \n",
      "There's no dissin' allowed \n",
      "I'm in my own phase \n",
      "The girlies sa y they love me and that is ok \n",
      "And I can dance better than any kid n' play \n",
      "\n",
      "Stage 2 -- Yea the one ya' wanna listen to \n",
      "It's off my head so let the beat play through \n",
      "So I can funk it up and make it sound good \n",
      "1-2-3 Yo -- Knock on some wood \n",
      "For good luck, I like my rhymes atrocious \n",
      "Supercalafragilisticexpialidocious \n",
      "I'm an effect and that you can bet \n",
      "I can take a fly girl and make her wet. \n",
      "\n",
      "I'm like Samson -- Samson to Delilah \n",
      "There's no denyin', You can try to hang \n",
      "But you'll keep tryin' to get my style \n",
      "Over and over, practice makes perfect \n",
      "But not if you're a loafer. \n",
      "\n",
      "You'll get nowhere, no place, no time, no girls \n",
      "Soon -- Oh my God, homebody, you probably eat \n",
      "Spaghetti with a spoon! Come on and say it! \n",
      "\n",
      "VIP. Vanilla Ice yep, yep, I'm comin' hard like a rhino \n",
      "Intoxicating so you stagger like a wino \n",
      "So punks stop trying and girl stop cryin' \n",
      "Vanilla Ice is sellin' and you people are buyin' \n",
      "'Cause why the freaks are jockin' like Crazy Glue \n",
      "Movin' and groovin' trying to sing along \n",
      "All through the ghetto groovin' this here song \n",
      "Now you're amazed by the VIP posse. \n",
      "\n",
      "Steppin' so hard like a German Nazi \n",
      "Startled by the bases hittin' ground \n",
      "There's no trippin' on mine, I'm just gettin' down \n",
      "Sparkamatic, I'm hangin' tight like a fanatic \n",
      "You trapped me once and I thought that \n",
      "You might have it \n",
      "So step down and lend me your ear \n",
      "'89 in my time! You, '90 is my year. \n",
      "\n",
      "You're weakenin' fast, YO! and I can tell it \n",
      "Your body's gettin' hot, so, so I can smell it \n",
      "So don't be mad and don't be sad \n",
      "'Cause the lyrics belong to ICE, You can call me Dad \n",
      "You're pitchin' a fit, so step back and endure \n",
      "Let the witch doctor, Ice, do the dance to cure \n",
      "So come up close and don't be square \n",
      "You wanna battle me -- Anytime, anywhere \n",
      "\n",
      "You thought that I was weak, Boy, you're dead wrong \n",
      "So come on, everybody and sing this song \n",
      "\n",
      "Say -- Play that funky music Say, go white boy, go white boy go \n",
      "play that funky music Go white boy, go white boy, go \n",
      "Lay down and boogie and play that funky music till you die. \n",
      "\n",
      "Play that funky music Come on, Come on, let me hear \n",
      "Play that funky music white boy you say it, say it \n",
      "Play that funky music A little louder now \n",
      "Play that funky music, white boy Come on, Come on, Come on \n",
      "Play that funky music \n",
      "\n"
     ]
    }
   ],
   "source": [
    "result = attack_repeating_key_xor(ciphertext,min_length,max_length)\n",
    "print(\"la clef est:\",result[\"key\"],'\\n')\n",
    "print('le message est :\\n')\n",
    "print(result[\"message\"].decode())"
   ]
  },
  {
   "cell_type": "markdown",
   "metadata": {},
   "source": [
    "# 1.7 AES in ECB mode"
   ]
  },
  {
   "cell_type": "code",
   "execution_count": 46,
   "metadata": {},
   "outputs": [],
   "source": [
    "from base64 import b64decode\n",
    "with open(\"./aes-in-ecb.txt\") as file:\n",
    "    ciphertext = b64decode(file.read())\n",
    "key=b\"YELLOW SUBMARINE\""
   ]
  },
  {
   "cell_type": "code",
   "execution_count": 47,
   "metadata": {},
   "outputs": [],
   "source": [
    "from Crypto.Cipher import AES\n",
    "def decrypt_aes_128_ecb(ctxt, key):\n",
    "    cipher = AES.new(key, AES.MODE_ECB)\n",
    "    plaintext = cipher.decrypt(ctxt) \n",
    "    return plaintext"
   ]
  },
  {
   "cell_type": "code",
   "execution_count": 48,
   "metadata": {},
   "outputs": [
    {
     "name": "stdout",
     "output_type": "stream",
     "text": [
      "b\"I'm back and I'm ringin' the bell \\nA rockin' on the mike while the fly girls yell \\nIn ecstasy in the back of me \\nWell that's my DJ Deshay cuttin' all them Z's \\nHittin' hard and the girlies goin' crazy \\nVanilla's on the mike, man I'm not lazy. \\n\\nI'm lettin' my drug kick in \\nIt controls my mouth and I begin \\nTo just let it flow, let my concepts go \\nMy posse's to the side yellin', Go Vanilla Go! \\n\\nSmooth 'cause that's the way I will be \\nAnd if you don't give a damn, then \\nWhy you starin' at me \\nSo get off 'cause I control the stage \\nThere's no dissin' allowed \\nI'm in my own phase \\nThe girlies sa y they love me and that is ok \\nAnd I can dance better than any kid n' play \\n\\nStage 2 -- Yea the one ya' wanna listen to \\nIt's off my head so let the beat play through \\nSo I can funk it up and make it sound good \\n1-2-3 Yo -- Knock on some wood \\nFor good luck, I like my rhymes atrocious \\nSupercalafragilisticexpialidocious \\nI'm an effect and that you can bet \\nI can take a fly girl and make her wet. \\n\\nI'm like Samson -- Samson to Delilah \\nThere's no denyin', You can try to hang \\nBut you'll keep tryin' to get my style \\nOver and over, practice makes perfect \\nBut not if you're a loafer. \\n\\nYou'll get nowhere, no place, no time, no girls \\nSoon -- Oh my God, homebody, you probably eat \\nSpaghetti with a spoon! Come on and say it! \\n\\nVIP. Vanilla Ice yep, yep, I'm comin' hard like a rhino \\nIntoxicating so you stagger like a wino \\nSo punks stop trying and girl stop cryin' \\nVanilla Ice is sellin' and you people are buyin' \\n'Cause why the freaks are jockin' like Crazy Glue \\nMovin' and groovin' trying to sing along \\nAll through the ghetto groovin' this here song \\nNow you're amazed by the VIP posse. \\n\\nSteppin' so hard like a German Nazi \\nStartled by the bases hittin' ground \\nThere's no trippin' on mine, I'm just gettin' down \\nSparkamatic, I'm hangin' tight like a fanatic \\nYou trapped me once and I thought that \\nYou might have it \\nSo step down and lend me your ear \\n'89 in my time! You, '90 is my year. \\n\\nYou're weakenin' fast, YO! and I can tell it \\nYour body's gettin' hot, so, so I can smell it \\nSo don't be mad and don't be sad \\n'Cause the lyrics belong to ICE, You can call me Dad \\nYou're pitchin' a fit, so step back and endure \\nLet the witch doctor, Ice, do the dance to cure \\nSo come up close and don't be square \\nYou wanna battle me -- Anytime, anywhere \\n\\nYou thought that I was weak, Boy, you're dead wrong \\nSo come on, everybody and sing this song \\n\\nSay -- Play that funky music Say, go white boy, go white boy go \\nplay that funky music Go white boy, go white boy, go \\nLay down and boogie and play that funky music till you die. \\n\\nPlay that funky music Come on, Come on, let me hear \\nPlay that funky music white boy you say it, say it \\nPlay that funky music A little louder now \\nPlay that funky music, white boy Come on, Come on, Come on \\nPlay that funky music \\n\\x04\\x04\\x04\\x04\"\n"
     ]
    }
   ],
   "source": [
    "plaintext = decrypt_aes_128_ecb(ciphertext,key)\n",
    "print(plaintext)"
   ]
  },
  {
   "cell_type": "markdown",
   "metadata": {},
   "source": [
    "# 1.8 Detect AES in ECB mode"
   ]
  },
  {
   "cell_type": "code",
   "execution_count": 22,
   "metadata": {},
   "outputs": [],
   "source": [
    "with open('./detect-aes-ecb.txt') as f:\n",
    "    ctxts = [binascii.a2b_hex(line.strip()) for line in f]\n",
    "blocksize = 16    "
   ]
  },
  {
   "cell_type": "code",
   "execution_count": 23,
   "metadata": {},
   "outputs": [],
   "source": [
    "def detect_repeated_blocks(ctxt, blocksize):\n",
    "    if len(ctxt) % blocksize != 0:\n",
    "        print('la longueur du texte chiffré n est pas un multiple de la taille du bloc')\n",
    "    else:\n",
    "        num_blocks = len(ctxt) // blocksize    \n",
    "    blocks = [ctxt[i*blocksize:(i+1)*blocksize] for i in range(num_blocks)] \n",
    "    if len(set(blocks)) - num_blocks != 0:\n",
    "        return True\n",
    "    else:\n",
    "        return False"
   ]
  },
  {
   "cell_type": "code",
   "execution_count": 24,
   "metadata": {},
   "outputs": [
    {
     "name": "stdout",
     "output_type": "stream",
     "text": [
      "le bloc répété est:\n",
      " [b'\\xd8\\x80a\\x97@\\xa8\\xa1\\x9bx@\\xa8\\xa3\\x1c\\x81\\n=\\x08d\\x9a\\xf7\\r\\xc0oO\\xd5\\xd2\\xd6\\x9ctL\\xd2\\x83\\xe2\\xdd\\x05/kd\\x1d\\xbf\\x9d\\x11\\xb04\\x85B\\xbbW\\x08d\\x9a\\xf7\\r\\xc0oO\\xd5\\xd2\\xd6\\x9ctL\\xd2\\x83\\x94u\\xc9\\xdf\\xdb\\xc1\\xd4e\\x97\\x94\\x9d\\x9c~\\x82\\xbfZ\\x08d\\x9a\\xf7\\r\\xc0oO\\xd5\\xd2\\xd6\\x9ctL\\xd2\\x83\\x97\\xa9>\\xab\\x8dj\\xec\\xd5fH\\x91Tx\\x9ak\\x03\\x08d\\x9a\\xf7\\r\\xc0oO\\xd5\\xd2\\xd6\\x9ctL\\xd2\\x83\\xd4\\x03\\x18\\x0c\\x98\\xc8\\xf6\\xdb\\x1f*?\\x9c@@\\xde\\xb0\\xabQ\\xb2\\x993\\xf2\\xc1#\\xc5\\x83\\x86\\xb0o\\xba\\x18j']\n"
     ]
    }
   ],
   "source": [
    "result = [ctxt for ctxt in ctxts if detect_repeated_blocks(ctxt,blocksize)]\n",
    "print('le bloc répété est:\\n', result)"
   ]
  },
  {
   "cell_type": "markdown",
   "metadata": {},
   "source": [
    "# 2. Block crypto"
   ]
  },
  {
   "cell_type": "markdown",
   "metadata": {},
   "source": [
    "# 2.1 Implement PKCS#7 padding"
   ]
  },
  {
   "cell_type": "code",
   "execution_count": 25,
   "metadata": {},
   "outputs": [],
   "source": [
    "import random\n",
    "from random import randint\n",
    "import os\n",
    "def pkcs7_padding(message, block_size):\n",
    "    padding_length = block_size - (len(message) % block_size )\n",
    "    if padding_length == 0:\n",
    "        padding_length = block_size\n",
    "    padding = bytes([padding_length]) * padding_length\n",
    "    result = message + padding\n",
    "    return result"
   ]
  },
  {
   "cell_type": "code",
   "execution_count": 26,
   "metadata": {},
   "outputs": [
    {
     "data": {
      "text/plain": [
       "b'YELLOW SUBMARINE\\x04\\x04\\x04\\x04'"
      ]
     },
     "execution_count": 26,
     "metadata": {},
     "output_type": "execute_result"
    }
   ],
   "source": [
    "message = b'YELLOW SUBMARINE'\n",
    "block_size = 20\n",
    "pkcs7_padding(message, block_size)"
   ]
  },
  {
   "cell_type": "markdown",
   "metadata": {},
   "source": [
    "# 2.2 Implement CBC mode"
   ]
  },
  {
   "cell_type": "code",
   "execution_count": 27,
   "metadata": {},
   "outputs": [],
   "source": [
    "from base64 import b64encode\n",
    "from Crypto.Cipher import AES\n",
    "from Crypto.Util.Padding import pad\n",
    "from Crypto.Random import get_random_bytes\n",
    "from Crypto.Util.Padding import unpad\n",
    "\n",
    "with open(\"./cbc-mode.txt\") as file:\n",
    "    ctxts = [b64decode(line.strip()) for line in file]\n",
    "key = get_random_bytes(16)\n",
    "\n",
    "def encrypt_aes_128_cbc(ctxts, key) :\n",
    "    for i in range(len(ctxts)) :\n",
    "        cipher = AES.new(key, AES.MODE_CBC)\n",
    "        ct_bytes = cipher.encrypt(pad(ctxts[i], AES.block_size))\n",
    "        iv = b64encode(cipher.iv).decode('utf-8')\n",
    "        ct = b64encode(ct_bytes).decode('utf-8')\n",
    "    result = {'iv':iv, 'ciphertext':ct}\n",
    "    return result\n",
    "\n",
    "\n",
    "def decrypt_aes_128_cbc(result, key) :\n",
    "    try:\n",
    "        iv = b64decode(result['iv'])\n",
    "        ct = b64decode(result['ciphertext'])\n",
    "        cipher = AES.new(key, AES.MODE_CBC, iv)     \n",
    "        pt = pkcs7_padding(cipher.decrypt(ct), AES.block_size)\n",
    "        print(\"Le message décrypté est :\\n : \", pt)\n",
    "    except ValueError :     \n",
    "        print(\"decryption incorrecte\")"
   ]
  },
  {
   "cell_type": "code",
   "execution_count": 28,
   "metadata": {},
   "outputs": [
    {
     "name": "stdout",
     "output_type": "stream",
     "text": [
      "le message encrypté est :\n",
      " {'iv': 'fJKTDrYWwmo4bLXZ8pCURg==', 'ciphertext': 'wJme3VCqoh4+0NIiJvdKxiT8Xq7aTMhRd38ZG3a0tAsV1WP6tY7NiaWbm9GQ9oeq'}\n",
      "Le message décrypté est :\n",
      " :  b\"\\x92B3Z\\x149G\\x17\\x7f\\xbes6A\\n\\xfd\\x0b\\x16\\xb6'\\xd1\\x97\\x11]\\xe4\\x188\\x99W\\xdd>< \\xd2Tf8V\\x01|\\xcb\\xb1\\x9et\\x8da\"\n",
      "None\n"
     ]
    }
   ],
   "source": [
    "ctxt = encrypt_aes_128_cbc(ctxts, key)\n",
    "print('le message encrypté est :\\n',ctxt)\n",
    "msg = decrypt_aes_128_cbc(ctxt, key)\n",
    "print(msg)"
   ]
  },
  {
   "cell_type": "markdown",
   "metadata": {},
   "source": [
    "# 2.3 An ECB/CBC detection oracle"
   ]
  },
  {
   "cell_type": "code",
   "execution_count": 30,
   "metadata": {},
   "outputs": [],
   "source": [
    "from Crypto.Cipher import AES\n",
    "\n",
    "\n",
    "def encrypt_aes_128_cbc(ctxts, key) :\n",
    "    cipher = AES.new(key, AES.MODE_CBC)\n",
    "    ct_bytes = cipher.encrypt(pad(ctxts, AES.block_size))\n",
    "    iv = b64encode(cipher.iv).decode('utf-8')\n",
    "    ct = b64encode(ct_bytes).decode('utf-8')\n",
    "    result = {'iv':iv, 'ciphertext':ct}\n",
    "    return result\n",
    "\n",
    "def encrypt_aes_128_ecb(ctxt, key):\n",
    "    block_size = 16  # Bytes\n",
    "    raw = pkcs7_padding(message, block_size)\n",
    "    cipher = AES.new(key, AES.MODE_ECB)\n",
    "    plaintext = cipher.encrypt(raw) \n",
    "    return plaintext\n",
    "\n",
    "def encrypt_oracle(message):\n",
    "    key = os.urandom(16)\n",
    "    left = os.urandom(randint(5, 10))\n",
    "    right = os.urandom(randint(5, 10))\n",
    "    iv=os.urandom(16)\n",
    "    message = left + message + left\n",
    "    if randint(0, 1) == 0:\n",
    "        return encrypt_aes_128_ecb(message, key)\n",
    "    else:\n",
    "        return encrypt_aes_128_cbc(message, key)\n",
    "\n",
    "from functools import reduce as rd\n",
    "def detect_ecb(plaintext, ciphertext):\n",
    "    blocks = [\n",
    "        ciphertext[i:i+16] \\\n",
    "           for i in range(0, len(ciphertext) - 16, 16)\n",
    "    ]\n",
    "    increment = lambda d, b: \\\n",
    "       (b in d and (d.__setitem__(b, d[b] + 1) or d)) or \\\n",
    "          (d.__setitem__(b, 1) or d)\n",
    "    items = list(rd(increment, blocks, {}).items())\n",
    "    items.sort(key=lambda p: p[1], reverse=True)\n",
    "    if len(plaintext) // 16 - items[0][1] < 2:\n",
    "        return 'ECB'\n",
    "    else:\n",
    "        return 'CBC'"
   ]
  },
  {
   "cell_type": "code",
   "execution_count": 31,
   "metadata": {},
   "outputs": [],
   "source": [
    "plaintext = b'M' * 16 * 10\n",
    "ciphertext = encrypt_aes_128_ecb((b'\\xff' * 6) + plaintext + (b'\\xf3' * 8), key=b'\\x42' * 16)\n",
    "detected_mode = 'ECB' if detect_ecb(plaintext,ciphertext) else 'CBC'"
   ]
  },
  {
   "cell_type": "code",
   "execution_count": 32,
   "metadata": {},
   "outputs": [
    {
     "name": "stdout",
     "output_type": "stream",
     "text": [
      "ECB\n"
     ]
    }
   ],
   "source": [
    "print(detected_mode)"
   ]
  },
  {
   "cell_type": "markdown",
   "metadata": {},
   "source": [
    "# 2.4 Byte-at-a-time ECB decryption (Simple)"
   ]
  },
  {
   "cell_type": "code",
   "execution_count": 52,
   "metadata": {},
   "outputs": [
    {
     "name": "stdout",
     "output_type": "stream",
     "text": [
      "1\n"
     ]
    }
   ],
   "source": [
    "import base64\n",
    "\n",
    "\n",
    "def encrypt(msg,key):\n",
    "    key = os.urandom(16)\n",
    "    add_msg = base64.b64decode(\n",
    "    \"Um9sbGluJyBpbiBteSA1LjAKV2l0aCBteSByYWctdG9wIGRvd24gc28gbXkg\"\n",
    "    \"aGFpciBjYW4gYmxvdwpUaGUgZ2lybGllcyBvbiBzdGFuZGJ5IHdhdmluZyBq\"\n",
    "    \"dXN0IHRvIHNheSBoaQpEaWQgeW91IHN0b3A/IE5vLCBJIGp1c3QgZHJvdmUg\"\n",
    "    \"YnkK\"\n",
    ")\n",
    "    message = msg + add_msg\n",
    "    result = encrypt_aes_128_ecb(message,key)\n",
    "    return result\n",
    "\n",
    "def get_block_size(msg = b\"A\"*1 ,key = os.urandom(16)):\n",
    "    current_ctxt = None\n",
    "    for i in range(2, 20):\n",
    "        result_encrypt = encrypt(msg,key)\n",
    "        prev_ctxt = current_ctxt or result_encrypt\n",
    "        current_ctxt = result_encrypt\n",
    "        if prev_ctxt[:4] == current_ctxt[:4]:\n",
    "            return i-1\n",
    "\n",
    "\n",
    "block_size = get_block_size()\n",
    "print(block_size)"
   ]
  },
  {
   "cell_type": "code",
   "execution_count": 66,
   "metadata": {},
   "outputs": [],
   "source": [
    "def get_payload_length(msg= b'',key= os.urandom(16)):\n",
    "    result_encrypt = encrypt(msg,key)\n",
    "    previous_length = len(result_encrypt)\n",
    "    for i in range(20):\n",
    "        encrypt_strem = encrypt(b'X'*i,key)\n",
    "        length = len(encrypt_strem)\n",
    "        if length != previous_length:\n",
    "            result_lenght = previous_length - i\n",
    "            return result_lenght\n",
    "        else :\n",
    "            result_lenght = previous_length\n",
    "            return result_lenght"
   ]
  },
  {
   "cell_type": "code",
   "execution_count": 67,
   "metadata": {},
   "outputs": [
    {
     "name": "stdout",
     "output_type": "stream",
     "text": [
      "144\n"
     ]
    }
   ],
   "source": [
    "result_lenght = get_payload_length()\n",
    "print(result_lenght)"
   ]
  },
  {
   "cell_type": "code",
   "execution_count": 62,
   "metadata": {},
   "outputs": [
    {
     "name": "stdout",
     "output_type": "stream",
     "text": [
      "Rollin' in my 5.0\n",
      "With my rag-top down so my hair can blow\n",
      "The girlies on standby waving just to say hi\n",
      "Did you stop? No, I just drove by\n",
      "\n"
     ]
    }
   ],
   "source": [
    "def get_one_more_byte_ecb(known_plaintext, block_size):\n",
    "    key = os.urandom(16) \n",
    "    k = len(known_plaintext)\n",
    "    padding_length = (-k-1) % block_size\n",
    "    padding = b\"A\" * padding_length\n",
    "    target_block_number = len(known_plaintext) // block_size\n",
    "    target_slice = slice(target_block_number*block_size,\n",
    "                         (target_block_number+1)*block_size)\n",
    "    target_block = encrypt(padding,key)[target_slice]\n",
    "\n",
    "    for i in range(256):\n",
    "        message = padding + known_plaintext + bytes([i])\n",
    "        block = encrypt(message,key)[target_slice]\n",
    "        if block == target_block:\n",
    "            return bytes([i])\n",
    "\n",
    "def get_one_byte_at_time_ecb(block_size):\n",
    "    known_plaintext = b\"\"\n",
    "    payload_length = get_payload_length()\n",
    "    for _ in range(payload_length):\n",
    "        new_known_byte = get_one_more_byte_ecb(known_plaintext, block_size)\n",
    "        known_plaintext = known_plaintext + new_known_byte\n",
    "    return known_plaintext\n",
    "\n",
    "secret = get_one_byte_at_time_ecb(block_size)\n",
    "\n",
    "print(secret.decode())"
   ]
  },
  {
   "cell_type": "markdown",
   "metadata": {},
   "source": [
    "# 2.5 Byte-at-a-time ECB decryption (Harder)"
   ]
  },
  {
   "cell_type": "code",
   "execution_count": 63,
   "metadata": {},
   "outputs": [],
   "source": [
    "def split_bytes_in_blocks(x, blocksize):\n",
    "nb_blocks = ceil(len(x)/blocksize)\n",
    "return [x[blocksize*i:blocksize*(i+1)] for i in range(nb_blocks)]\n",
    "    \n",
    "def encrypt_hard(message):\n",
    "    key = os.urandom(16)\n",
    "    prefix = os.urandom(randint(1,15))\n",
    "    target = base64.b64decode(\n",
    "            \"Um9sbGluJyBpbiBteSA1LjAKV2l0aCBteSByYWctdG9wIGRvd24gc28gbXkg\"\n",
    "            \"aGFpciBjYW4gYmxvdwpUaGUgZ2lybGllcyBvbiBzdGFuZGJ5IHdhdmluZyBq\"\n",
    "            \"dXN0IHRvIHNheSBoaQpEaWQgeW91IHN0b3A/IE5vLCBJIGp1c3QgZHJvdmUg\"\n",
    "            \"YnkK\"\n",
    "        )\n",
    "    text = prefix + message + target\n",
    "    result_encrypt = encrypt_aes_128_ecb(text,key)\n",
    "    return result_encrypt"
   ]
  },
  {
   "cell_type": "code",
   "execution_count": 64,
   "metadata": {},
   "outputs": [
    {
     "name": "stdout",
     "output_type": "stream",
     "text": [
      "Rollin' in my 5.0\n",
      "With my rag-top down so my hair can blow\n",
      "The girlies on standby waving just to say hi\n",
      "Did you stop? No, I just drove by\n",
      "\n"
     ]
    }
   ],
   "source": [
    "result_encrypt = encrypt_hard(b'')\n",
    "previous_length = len(result_encrypt)\n",
    "for i in range(20):\n",
    "    result_encrypt_stream = encrypt_hard(b'X'*i)\n",
    "    length = len(result_encrypt_stream)\n",
    "    if length != previous_length:\n",
    "        block_size = length - previous_length\n",
    "        size_prefix_plus_target_aligned = previous_length\n",
    "        min_known_ptxt_size_to_align = i\n",
    "        break\n",
    "else:\n",
    "    print('aucun changement détecté au longueur dr ciphetext ')\n",
    "    \n",
    "\n",
    "previous_blocks = None\n",
    "for i in range(1, block_size+1):\n",
    "    result_encrypt_stream = encrypt_hard(b'X'*i)\n",
    "    blocks = split_bytes_in_blocks(result_encrypt_stream, block_size)\n",
    "    if previous_blocks != None and blocks[0] == previous_blocks[0]:\n",
    "        prefix_size = block_size - i + 1\n",
    "        break\n",
    "    previous_blocks = blocks\n",
    "else:\n",
    "    else(' aucun detect de block ciphertext constant')\n",
    "    \n",
    "\n",
    "target_size = size_prefix_plus_target_aligned - min_known_ptxt_size_to_align - prefix_size\n",
    "\n",
    "\n",
    "key = key = os.urandom(16)\n",
    "know_target_bytes = b\"\"\n",
    "for _ in range(target_size):\n",
    "    r = prefix_size\n",
    "    k = len(know_target_bytes)\n",
    "    padding_length = (-k-1-r) % block_size\n",
    "    padding = b\"X\" * padding_length\n",
    "    target_block_number = (k+r) // block_size\n",
    "    target_slice = slice(target_block_number*block_size, (target_block_number+1)*block_size)\n",
    "    target_block = encrypt_hard(padding,key)[target_slice]\n",
    "    for i in range(256):\n",
    "        message = padding + know_target_bytes + bytes([i])\n",
    "        block = encrypt_hard(message,key)[target_slice]\n",
    "        if block == target_block:\n",
    "            know_target_bytes += bytes([i])\n",
    "            break\n",
    "\n",
    "print(know_target_bytes.decode())"
   ]
  },
  {
   "cell_type": "markdown",
   "metadata": {},
   "source": [
    "# 2.6 PKCS#7 padding validation"
   ]
  },
  {
   "cell_type": "code",
   "execution_count": 69,
   "metadata": {},
   "outputs": [
    {
     "name": "stdout",
     "output_type": "stream",
     "text": [
      "b'ICE ICE BABY'\n",
      "erreur de padding\n",
      "erreur de padding\n",
      "b'ICE ICE BAB'\n",
      "b'ICE ICE BABY'\n"
     ]
    }
   ],
   "source": [
    "\n",
    "block_size = 16\n",
    "def pkcs7_strip(x, block_size):\n",
    "    if not len(x) % block_size == 0:\n",
    "        print('erreur de padding')\n",
    "    last_byte = x[-1]\n",
    "    padding_size = int(last_byte) \n",
    "    if not x.endswith(bytes([last_byte])*padding_size):\n",
    "        print('erreur de padding')\n",
    "    padding = x[:-padding_size]    \n",
    "    return padding\n",
    "\n",
    "result1 = pkcs7_strip(b'ICE ICE BABY\\x04\\x04\\x04\\x04', block_size)\n",
    "print(result1)\n",
    "try:\n",
    "    result2 = pkcs7_strip(b'ICE ICE BABY\\x05\\x05\\x05\\x05', block_size)\n",
    "    result3 = pkcs7_strip(b'ICE ICE BABY\\x01\\x02\\x03\\x04', block_size)\n",
    "    print(result2)\n",
    "    print(result3)\n",
    "except :\n",
    "    print('exception erreur de padding')\n"
   ]
  },
  {
   "cell_type": "markdown",
   "metadata": {},
   "source": [
    "# 2.7 CBC bitflipping attacks"
   ]
  },
  {
   "cell_type": "code",
   "execution_count": 78,
   "metadata": {},
   "outputs": [],
   "source": [
    "import os\n",
    "import urllib\n",
    "from itertools import zip_longest\n",
    "from math import ceil\n",
    "from cryptography.hazmat.primitives.ciphers import Cipher, algorithms, modes\n",
    "from cryptography.hazmat.backends import default_backend\n",
    "backend = default_backend()\n",
    "\n",
    "key = os.urandom(16)\n",
    "\n",
    "\n",
    "def cbcxor(a, b, longest=True):\n",
    "    if longest:\n",
    "        return bytes([ x^y for (x, y) in zip_longest(a, b, fillvalue=0)])\n",
    "    else:\n",
    "        return bytes([ x^y for (x, y) in zip(a, b)])\n",
    "\n",
    "\n",
    "def pkcs7_padding(message, block_size):\n",
    "    padding_length = block_size - ( len(message) % block_size )\n",
    "    if padding_length == 0:\n",
    "        padding_length = block_size\n",
    "    padding = bytes([padding_length]) * padding_length\n",
    "    return message + padding\n",
    "\n",
    "\n",
    "def pkcs7_strip(x, block_size):\n",
    "    if not len(x) % block_size == 0:\n",
    "        print('PaddingError')\n",
    "    last_byte = x[-1]\n",
    "    padding_size = int(last_byte) \n",
    "    if not x.endswith(bytes([last_byte])*padding_size):\n",
    "        print('PaddingError')\n",
    "    return x[:-padding_size]\n",
    "\n",
    "\n",
    "def split_bytes_in_blocks(x, blocksize):\n",
    "    nb_blocks = ceil(len(x)/blocksize)\n",
    "    return [x[blocksize*i:blocksize*(i+1)] for i in range(nb_blocks)]\n",
    "\n",
    "\n",
    "def encrypt_aes_128_block(msg, key):\n",
    "    cipher = Cipher(algorithms.AES(key), modes.ECB(), backend=backend)\n",
    "    encryptor = cipher.encryptor()\n",
    "    return encryptor.update(msg) + encryptor.finalize()\n",
    "\n",
    "def decrypt_aes_128_block(ctxt, key):\n",
    "    cipher = Cipher(algorithms.AES(key), modes.ECB(), backend=backend)\n",
    "    decryptor = cipher.decryptor()\n",
    "    decrypted_data =  decryptor.update(ctxt) + decryptor.finalize()\n",
    "    return decrypted_data    \n",
    "\n",
    "\n",
    "\n",
    "def encrypt_aes128_cbc(msg, iv, key):\n",
    "    block_size = 16\n",
    "    padded_msg = pkcs7_padding(msg, block_size)\n",
    "    result = b''\n",
    "    mask = iv\n",
    "    for block in split_bytes_in_blocks(padded_msg, block_size):\n",
    "        tmp = cbcxor(block, mask)\n",
    "        enc_block = encrypt_aes_128_block(tmp, key)\n",
    "        mask = enc_block\n",
    "        result += enc_block\n",
    "    return result\n",
    "\n",
    "\n",
    "def decrypt_aes128_cbc(ctxt, iv, key):\n",
    "    block_size = 16\n",
    "    padded_msg = b''\n",
    "    mask = iv\n",
    "    for enc_block in split_bytes_in_blocks(ctxt, block_size):\n",
    "        tmp = decrypt_aes_128_block(enc_block, key)\n",
    "        padded_msg += cbcxor(mask, tmp)\n",
    "        mask = enc_block\n",
    "        result = pkcs7_strip(padded_msg, block_size)\n",
    "        return result\n",
    "\n",
    "\n",
    "def encrypt_cbc_buffing(msg):\n",
    "    quoted_msg = urllib.parse.quote_from_bytes(msg).encode()\n",
    "    full_msg = (\n",
    "        b\"comment1=cooking%20MCs;userdata=\"\n",
    "        + quoted_msg\n",
    "        + b\";comment2=%20like%20a%20pound%20of%20bacon\"\n",
    "    )      \n",
    "    iv = os.urandom(16)\n",
    "    ciphertext = encrypt_aes128_cbc(full_msg, iv, key)\n",
    "    result = {\"iv\":iv, \"ciphertext\":ciphertext}\n",
    "    return result\n",
    "\n",
    "def decrypt_and_check_admin(ctxt):\n",
    "    texte = decrypt_aes128_cbc(ctxt[\"ciphertext\"], ctxt[\"iv\"],key)     \n",
    "    if b\";admin=true;\" in texte:\n",
    "        return True\n",
    "    else:\n",
    "        return False"
   ]
  },
  {
   "cell_type": "code",
   "execution_count": 79,
   "metadata": {},
   "outputs": [
    {
     "name": "stdout",
     "output_type": "stream",
     "text": [
      "PaddingError\n",
      "decrypted: b''\n",
      "PaddingError\n",
      "admin: False\n"
     ]
    }
   ],
   "source": [
    "crypto1 = encrypt_cbc_buffing(b\"hi\")\n",
    "print(\"decrypted:\", decrypt_aes128_cbc(crypto1[\"ciphertext\"], crypto1[\"iv\"], key))\n",
    "print(\"admin:\", decrypt_and_check_admin(crypto1))"
   ]
  },
  {
   "cell_type": "code",
   "execution_count": 107,
   "metadata": {},
   "outputs": [
    {
     "name": "stdout",
     "output_type": "stream",
     "text": [
      "decrypted: b'comment1=cooking%20MCs;userdata=lol%3Badmin%3Dtrue;comment2=%20like%20a%20pound%20of%20bacon'\n",
      "admin: False\n"
     ]
    }
   ],
   "source": [
    "crypto2 = encrypt(b\"lol;admin=true\")\n",
    "print(\"decrypted:\", decrypt_aes128_cbc(crypto2[\"ciphertext\"], crypto2[\"iv\"], key))\n",
    "print(\"admin:\", decrypt_and_check_admin(crypto2))"
   ]
  },
  {
   "cell_type": "code",
   "execution_count": 109,
   "metadata": {},
   "outputs": [
    {
     "name": "stdout",
     "output_type": "stream",
     "text": [
      "decrypted: b'comment1=cooking0\\xffk\\xca\\x1d\\x04\\xf4\\xb55\\xe3h\\xacd\\xd6E\\xa0;admin=true;comment2=%20like%20a%20pound%20of%20bacon'\n",
      "admin: True\n"
     ]
    }
   ],
   "source": [
    "p = cbcxor(b\";admin=true\", b\"X\"*11)\n",
    "crypto3 = encrypt(b\"X\"*11)\n",
    "crypto3[\"ciphertext\"] = cbcxor(crypto3[\"ciphertext\"], b'\\x00'*16 + p)\n",
    "print(\"decrypted:\", decrypt_aes128_cbc(crypto3[\"ciphertext\"], crypto3[\"iv\"], key))\n",
    "print(\"admin:\", decrypt_and_check_admin(crypto3))"
   ]
  },
  {
   "cell_type": "markdown",
   "metadata": {},
   "source": [
    "# 2.8 : The CBC padding oracle"
   ]
  },
  {
   "cell_type": "code",
   "execution_count": 125,
   "metadata": {},
   "outputs": [],
   "source": [
    "class PaddingError(Exception):\n",
    "    pass\n",
    "\n",
    "def pkcs7_padding(message, block_size):\n",
    "    padding_length = block_size - ( len(message) % block_size )\n",
    "    if padding_length == 0:\n",
    "        padding_length = block_size\n",
    "    padding = bytes([padding_length]) * padding_length\n",
    "    return message + padding\n",
    "\n",
    "def pkcs7_strip(x, block_size):\n",
    "    if not len(x) % block_size == 0:\n",
    "        raise PaddingError\n",
    "        \n",
    "    last_byte = x[-1]\n",
    "    \n",
    "    # the 'int' is superfluous here\n",
    "    # as last_byte is already an int (for Python a byte string is a list of integers)\n",
    "    # but this way it's clearer what we are doing\n",
    "    padding_size = int(last_byte)\n",
    "\n",
    "    if padding_size > block_size:\n",
    "        raise PaddingError('illegal last byte (greater than block size)')\n",
    "    if padding_size == 0:\n",
    "        raise PaddingError('illegal last byte (zero)')\n",
    "    \n",
    "    if not x.endswith(bytes([last_byte])*padding_size):\n",
    "        raise PaddingError\n",
    "\n",
    "    return x[:-padding_size]\n"
   ]
  },
  {
   "cell_type": "code",
   "execution_count": 126,
   "metadata": {},
   "outputs": [
    {
     "name": "stdout",
     "output_type": "stream",
     "text": [
      "Got a padding error just as expected\n"
     ]
    }
   ],
   "source": [
    "import os\n",
    "import random\n",
    "from random import randint\n",
    "\n",
    "messages = list(map(b64decode, [\n",
    "        b'MDAwMDAwTm93IHRoYXQgdGhlIHBhcnR5IGlzIGp1bXBpbmc=',\n",
    "        b'MDAwMDAxV2l0aCB0aGUgYmFzcyBraWNrZWQgaW4gYW5kIHRoZSBWZWdhJ3MgYXJlIHB1bXBpbic=',\n",
    "        b'MDAwMDAyUXVpY2sgdG8gdGhlIHBvaW50LCB0byB0aGUgcG9pbnQsIG5vIGZha2luZw==',\n",
    "        b'MDAwMDAzQ29va2luZyBNQydzIGxpa2UgYSBwb3VuZCBvZiBiYWNvbg==',\n",
    "        b'MDAwMDA0QnVybmluZyAnZW0sIGlmIHlvdSBhaW4ndCBxdWljayBhbmQgbmltYmxl',\n",
    "        b'MDAwMDA1SSBnbyBjcmF6eSB3aGVuIEkgaGVhciBhIGN5bWJhbA==',\n",
    "        b'MDAwMDA2QW5kIGEgaGlnaCBoYXQgd2l0aCBhIHNvdXBlZCB1cCB0ZW1wbw==',\n",
    "        b'MDAwMDA3SSdtIG9uIGEgcm9sbCwgaXQncyB0aW1lIHRvIGdvIHNvbG8=',\n",
    "        b'MDAwMDA4b2xsaW4nIGluIG15IGZpdmUgcG9pbnQgb2g=',\n",
    "        b'MDAwMDA5aXRoIG15IHJhZy10b3AgZG93biBzbyBteSBoYWlyIGNhbiBibG93',\n",
    "    ]))\n",
    "\n",
    "key = os.urandom(16)\n",
    "\n",
    "def encrypt():\n",
    "        msg = random.choice(messages)\n",
    "        iv = os.urandom(16)\n",
    "        ctxt = encrypt_aes128_cbc(msg, iv, key)\n",
    "        return ctxt, iv\n",
    "    \n",
    "def decrypt(cryptogram):\n",
    "    ctxt, iv = cryptogram\n",
    "    decrypt_aes128_cbc(ctxt, iv, key)\n",
    "        \n",
    "ctxt, iv = encrypt()\n",
    "cryptogram = {'ctxt': ctxt, 'iv': iv}\n",
    " \n",
    "decrypt((cryptogram['ctxt'], cryptogram['iv']))\n",
    "\n",
    "try:\n",
    "    oracle.decrypt((os.urandom(16), cryptogram['iv']))\n",
    "    raise Exception('A padding error was expected')\n",
    "except:\n",
    "    print('Got a padding error just as expected')\n"
   ]
  },
  {
   "cell_type": "code",
   "execution_count": 127,
   "metadata": {},
   "outputs": [
    {
     "name": "stdout",
     "output_type": "stream",
     "text": [
      "padding length: 16\n"
     ]
    }
   ],
   "source": [
    "BLOCK_SIZE = 16\n",
    "\n",
    "def cbc_xor(cryptogram, pad, index):\n",
    "    ctxt = cryptogram['ctxt']\n",
    "    iv = cryptogram['iv']\n",
    "\n",
    "    if len(pad) > BLOCK_SIZE - (index % BLOCK_SIZE):\n",
    "        raise ValueError('pad cannot cover several blocks')\n",
    "\n",
    "    if isinstance(index, tuple):\n",
    "        block_nb = index[0] % (len(ctxt) // BLOCK_SIZE)\n",
    "        index_in_block = index[1] % (BLOCK_SIZE)\n",
    "\n",
    "        index = block_nb*BLOCK_SIZE + index_in_block\n",
    "    else:\n",
    "        index = index % len(ctxt)\n",
    "\n",
    "    if index < BLOCK_SIZE:\n",
    "        iv = cbcxor(iv, (b'\\x00'*index) + pad)\n",
    "    else:\n",
    "        ctxt = cbcxor(ctxt, b'\\x00'*(index-BLOCK_SIZE) + pad)\n",
    "    return {'ctxt': ctxt, 'iv':iv}\n",
    "\n",
    "\n",
    "for i in range(BLOCK_SIZE):\n",
    "    altered_cryptogram = cbc_xor(cryptogram, pad=b'\\xff', index=len(ctxt)-1-i)\n",
    "    try:\n",
    "        decrypt((altered_cryptogram['ctxt'], altered_cryptogram['iv']))\n",
    "        altered_cryptogram = cbc_xor(cryptogram, pad=b'\\x11', index=len(ctxt)-1-i)\n",
    "        decrypt((altered_cryptogram['ctxt'], altered_cryptogram['iv']))\n",
    "        padding_length = i\n",
    "        break\n",
    "    except PaddingError:\n",
    "        continue\n",
    "else:\n",
    "    padding_length = BLOCK_SIZE\n",
    "print('padding length:', padding_length)\n",
    "\n",
    "expected = BLOCK_SIZE - len(decrypt_aes128_cbc(ctxt, iv, key)) % BLOCK_SIZE"
   ]
  },
  {
   "cell_type": "code",
   "execution_count": 128,
   "metadata": {},
   "outputs": [
    {
     "data": {
      "text/plain": [
       "b\"000008ollin' in my five point oh\""
      ]
     },
     "execution_count": 128,
     "metadata": {},
     "output_type": "execute_result"
    }
   ],
   "source": [
    "known_bytes = bytes([padding_length])*padding_length\n",
    "\n",
    "def recover_one_more_byte(cryptogram, known_bytes):\n",
    "    ctxt = cryptogram['ctxt']\n",
    "    iv = cryptogram['iv']\n",
    "    nb_blocks_to_drop = len(known_bytes) // BLOCK_SIZE\n",
    "    target_byte_index = - (len(known_bytes) % BLOCK_SIZE) - 1\n",
    "    not_dropped = slice(0, -nb_blocks_to_drop*BLOCK_SIZE or None)\n",
    "    l = len(known_bytes[not_dropped])\n",
    "    for i in range(256):\n",
    "        pad = bytes([i]) + cbcxor(known_bytes[not_dropped], bytes([l+1])*(l))\n",
    "        cryptogram_to_alter = {'ctxt': ctxt[not_dropped], 'iv': iv}\n",
    "        cryptogram_altered = cbc_xor(cryptogram_to_alter, pad, target_byte_index)\n",
    "        try:\n",
    "            decrypt((cryptogram_altered['ctxt'], cryptogram_altered['iv']))\n",
    "            target_byte_value = (l+1) ^ i\n",
    "            return bytes([target_byte_value])\n",
    "        except PaddingError:\n",
    "            continue\n",
    "    else:\n",
    "        err_msg = 'all values triggered a padding error'\n",
    "        if l == 2:\n",
    "            err_msg += '; probably a mistake when recovering last byte of the block'\n",
    "        raise Exception(err_msg)\n",
    "\n",
    "\n",
    "\n",
    "while len(known_bytes) < len(ctxt):\n",
    "    new_byte = recover_one_more_byte(cryptogram, known_bytes)\n",
    "    known_bytes = new_byte + known_bytes\n",
    "\n",
    "pkcs7_strip(known_bytes, BLOCK_SIZE)"
   ]
  }
 ],
 "metadata": {
  "kernelspec": {
   "display_name": "Python 3",
   "language": "python",
   "name": "python3"
  },
  "language_info": {
   "codemirror_mode": {
    "name": "ipython",
    "version": 3
   },
   "file_extension": ".py",
   "mimetype": "text/x-python",
   "name": "python",
   "nbconvert_exporter": "python",
   "pygments_lexer": "ipython3",
   "version": "3.6.9"
  }
 },
 "nbformat": 4,
 "nbformat_minor": 2
}
